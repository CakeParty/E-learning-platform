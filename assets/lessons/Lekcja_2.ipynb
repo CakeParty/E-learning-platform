{
  "nbformat": 4,
  "nbformat_minor": 0,
  "metadata": {
    "colab": {
      "name": "Lekcja_2.ipynb",
      "provenance": [],
      "collapsed_sections": []
    },
    "kernelspec": {
      "name": "python3",
      "display_name": "Python 3"
    },
    "language_info": {
      "name": "python"
    }
  },
  "cells": [
    {
      "cell_type": "markdown",
      "source": [
        "#1. Narzędzia pracy z sztuczną inteligencją\n",
        "\n",
        "Przed rozpoczęciem pracy z zagadnieniem sztucznej inteligencji, przyszedł czas na ważną decyzję jaką jest wybranie odpowiedniej biblioteki. Język Python posiada wiele dużych [**bibliotek**](https://codersera.com/blog/python-libraries-for-data-science/) zoptymalizowanych w tym zakresie.\n",
        "\n",
        "Powyższy artykuł przedstawia listę najlepszych bibliotek z roku 2021. Warto wiedzieć, że każda z tych bibliotek ma swoje wady i zalety. Bez wchodzenia w konkretne [**zalety**](https://www.geeksforgeeks.org/why-tensorflow-is-so-popular-tensorflow-features/), głownym narzędziem pracy będzie TensorFlow.\n",
        "\n",
        "#2. Tensorflow\n",
        "\n",
        "Jest jedną z najbardziej popularnych bibliotek na rynku. Używana jest chociażby przez takie firmy jak Google, Qualcomm, Dropbox, czy nawet Tinder. Dla osób zainteresowanych samą biblioteką odsyłam do [**tego artykułu**](https://greenlogic.pl/blog/tensorflow-darmowa-biblioteka-machine-learning-dla-kazdego/). W celu możliwości dalszej pracy, musimy jednak poznać podstawowe mechanizmy działania biblioteki.\n",
        "\n",
        "W celu zainstalowania na urządzeniu lokalnym biblioteki, potrzebne jest użycie narzędzia pip.\n",
        "~~~\n",
        "pip install tensorflow\n",
        "~~~\n",
        "\n",
        "Nie będzie to konieczne w tym kursie, ponieważ Google Colaboratory posiada domyślnie wgraną bibliotekę, którą wczytujemy za pomocą komendy.\n",
        "\n",
        "\n",
        "\n"
      ],
      "metadata": {
        "id": "TKUGLlxlQHi3"
      }
    },
    {
      "cell_type": "code",
      "source": [
        "%tensorflow_version 2.x  # jest to wymagane tylko w Google Colab, sprecyzowanie której wersji będziemy używać\n",
        "import tensorflow as tf  # import biblioteki"
      ],
      "metadata": {
        "colab": {
          "base_uri": "https://localhost:8080/"
        },
        "id": "cDpdjkAUfC0S",
        "outputId": "f4472935-27ec-4aa9-b876-a4cd78025975"
      },
      "execution_count": null,
      "outputs": [
        {
          "output_type": "stream",
          "name": "stdout",
          "text": [
            "`%tensorflow_version` only switches the major version: 1.x or 2.x.\n",
            "You set: `2.x  # jest to wymagane tylko w Google Colab, sprecyzowanie której wersji będziemy używać`. This will be interpreted as: `2.x`.\n",
            "\n",
            "\n",
            "TensorFlow 2.x selected.\n"
          ]
        }
      ]
    },
    {
      "cell_type": "markdown",
      "source": [
        "##Tensory\n",
        "\"Status tensora jest specyficzny: z jednej strony jest uogólnieniem wektora, a z drugiej jego szczególnym przypadkiem\" (https://smp.uph.edu.pl/msn/45/19-24.pdf). Tensory są podstawowym elementem biblioteki Tensorflow, należy je traktować jako zmienne w programowaniu, na których będą wykonywane operacje. Żeby to było możliwe każdy z nich posiada właściwości takie jak rodzaj i kształt.\n",
        "\n",
        "Rodzaj tensora odpowiada popularnym typom zmiennych spotykanych w każdym języku programwania jak: integer, float, string, lub inne. Pełna lista znajduję się w [dokumentacji](https://www.tensorflow.org/api_docs/python/tf/dtypes/DType). \n"
      ],
      "metadata": {
        "id": "QwuFVMpEfByX"
      }
    },
    {
      "cell_type": "code",
      "source": [
        "v_number = tf.Variable(20, tf.int16)\n",
        "v_float = tf.Variable(3.14, tf.float64)\n",
        "v_string = tf.Variable(\"a string\", tf.string) "
      ],
      "metadata": {
        "id": "_Au_eKjuc3v_"
      },
      "execution_count": null,
      "outputs": []
    },
    {
      "cell_type": "markdown",
      "source": [
        "###Ranga\n",
        "Jest ona właściwością opisującą rangę zmiennej, mówi ona jakie jest najgłębsze zagnieżdzenie w tensorze:\n",
        "* [ 0 ] Skalar - pojedyncza zmienna bez osi\n"
      ],
      "metadata": {
        "id": "YiLeDJYfdD_S"
      }
    },
    {
      "cell_type": "code",
      "source": [
        "ranga0 = tf.Variable(\"test123\", tf.string)\n",
        "tf.rank(ranga0)"
      ],
      "metadata": {
        "colab": {
          "base_uri": "https://localhost:8080/"
        },
        "id": "O4MEGZDGd0sV",
        "outputId": "a627a9b3-8f7a-4e16-a607-281c4ae51f8c"
      },
      "execution_count": null,
      "outputs": [
        {
          "output_type": "execute_result",
          "data": {
            "text/plain": [
              "<tf.Tensor: shape=(), dtype=int32, numpy=0>"
            ]
          },
          "metadata": {},
          "execution_count": 9
        }
      ]
    },
    {
      "cell_type": "markdown",
      "source": [
        "Ranga zmiennej jest pokazana poprzez właściwość *numpy*\n",
        "* [ 1 ] Wektor - wiele zmiennych z jedną osią"
      ],
      "metadata": {
        "id": "DA_8vE_-d1xG"
      }
    },
    {
      "cell_type": "code",
      "source": [
        "ranga1 = tf.Variable([\"test1\", \"test2\"], tf.string)\n",
        "tf.rank(ranga1)"
      ],
      "metadata": {
        "colab": {
          "base_uri": "https://localhost:8080/"
        },
        "id": "LanoNDWFgawI",
        "outputId": "7fcb84eb-23fd-4dae-9da0-13ab21a28211"
      },
      "execution_count": null,
      "outputs": [
        {
          "output_type": "execute_result",
          "data": {
            "text/plain": [
              "<tf.Tensor: shape=(), dtype=int32, numpy=1>"
            ]
          },
          "metadata": {},
          "execution_count": 4
        }
      ]
    },
    {
      "cell_type": "markdown",
      "source": [
        "* [ 2 ] Macierz - wiele zmiennych na dwóch osiach"
      ],
      "metadata": {
        "id": "ilJxs_mNhpk1"
      }
    },
    {
      "cell_type": "code",
      "source": [
        "ranga2 = tf.Variable([[\"test1\", \"test2\"], [\"test3\", \"test4\"]], tf.string)\n",
        "tf.rank(ranga2)"
      ],
      "metadata": {
        "colab": {
          "base_uri": "https://localhost:8080/"
        },
        "id": "ttxsZ88VhpON",
        "outputId": "6a27e181-dab2-48d3-d1c4-13acd8dd2da0"
      },
      "execution_count": null,
      "outputs": [
        {
          "output_type": "execute_result",
          "data": {
            "text/plain": [
              "<tf.Tensor: shape=(), dtype=int32, numpy=2>"
            ]
          },
          "metadata": {},
          "execution_count": 5
        }
      ]
    },
    {
      "cell_type": "markdown",
      "source": [
        "Warto wiedzieć, że można tworzyć tensory o wiekszej ilości wymiarów.\n",
        "\n",
        "###Kształt\n",
        "\n",
        "Ostatnią własnością tensorów, którą musimy poznać i zrozumieć jest ich kształt. Jest to właściwość mówiąca ile elementów znajduje się na każdej z ich osi."
      ],
      "metadata": {
        "id": "vkHNPRlaipzX"
      }
    },
    {
      "cell_type": "code",
      "source": [
        "ranga1.shape"
      ],
      "metadata": {
        "colab": {
          "base_uri": "https://localhost:8080/"
        },
        "id": "eIclIBlXjS0F",
        "outputId": "8e9ddadf-330b-4b94-aa72-84ed4cbb15cb"
      },
      "execution_count": null,
      "outputs": [
        {
          "output_type": "execute_result",
          "data": {
            "text/plain": [
              "TensorShape([2])"
            ]
          },
          "metadata": {},
          "execution_count": 6
        }
      ]
    },
    {
      "cell_type": "code",
      "source": [
        "ranga2.shape"
      ],
      "metadata": {
        "colab": {
          "base_uri": "https://localhost:8080/"
        },
        "id": "SiGGWqz0kK3m",
        "outputId": "615d6b45-c27f-4f6c-9415-bb273ca19a93"
      },
      "execution_count": null,
      "outputs": [
        {
          "output_type": "execute_result",
          "data": {
            "text/plain": [
              "TensorShape([2, 2])"
            ]
          },
          "metadata": {},
          "execution_count": 7
        }
      ]
    },
    {
      "cell_type": "markdown",
      "source": [
        "Tensor ten zawiera 2 elementy, z czego każdy z nich posiada 2 wartości"
      ],
      "metadata": {
        "id": "zFccqx7Skmt2"
      }
    },
    {
      "cell_type": "code",
      "source": [
        "shapex = tf.Variable([[1, 2, 3], [4, 5, 6]], tf.int32)\n",
        "shapex.shape"
      ],
      "metadata": {
        "colab": {
          "base_uri": "https://localhost:8080/"
        },
        "id": "UkLgLiskkKiJ",
        "outputId": "88919ddc-3480-4cac-d27e-dd2de65f3ee7"
      },
      "execution_count": null,
      "outputs": [
        {
          "output_type": "execute_result",
          "data": {
            "text/plain": [
              "TensorShape([2, 3])"
            ]
          },
          "metadata": {},
          "execution_count": 8
        }
      ]
    },
    {
      "cell_type": "markdown",
      "source": [
        "Tensor ten zawiera 2 elementy, z czego każdy z nich posiada 3 wartości. \n",
        "\n",
        "##Keras\n",
        "\n",
        "Początkowo Keras istniał jako osobna biblioteka służąca do pracy z sztuczną inteligencją, posiada kilka kluczowych zalet które przyczyniły się do jego zintegrowania z świetną, ale ciężką w pracy z biblioteką Tensorflow. Z tego powodu Keras jest częścią biblioteki od wersji 2.0 w górę. Te zalety, którymi dysponował Keras to między innymi:\n",
        "\n",
        "* Szybka i zomptymalizowana praca na niższym poziomie \n",
        "* Skalowalność obliczeń do wielu urządzeń\n",
        "* Eksportowanie programów do zewnętrznych środowisk, takich jak serwery, przeglądarki czy urządzenia mobilne."
      ],
      "metadata": {
        "id": "WNV_XYMkklE3"
      }
    },
    {
      "cell_type": "markdown",
      "source": [
        "Zachęcam do eksperymentowania z rozmiarem tensorów w tym przykładzie. Istnieje również kilka wbudowanych metod, które pozwalają na modyfikowanie tensorów, zostaną one wprowadzone wraz z kolejnymi lekcjami. Po więcej informacji dla osób zainteresowanych odsyłam do dokumentacji pod adresem https://www.tensorflow.org/guide/tensor.\n"
      ],
      "metadata": {
        "id": "saovViu8U_u5"
      }
    }
  ]
}