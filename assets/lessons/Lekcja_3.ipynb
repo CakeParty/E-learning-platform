{
  "nbformat": 4,
  "nbformat_minor": 0,
  "metadata": {
    "colab": {
      "name": "Lekcja_3.ipynb",
      "provenance": [],
      "collapsed_sections": []
    },
    "kernelspec": {
      "name": "python3",
      "display_name": "Python 3"
    },
    "language_info": {
      "name": "python"
    }
  },
  "cells": [
    {
      "cell_type": "markdown",
      "source": [
        "#Paradygmaty uczenia\n",
        "\n",
        "Teraz kiedy dokonaliśmy wyboru narzędzi, którymi się będziemy posługiwali, przyszedł czas na omówienie jak działa uczenie się sztucznej inteligencji.\n",
        "\n",
        "Proces ten można podzielić na trzy głowne paradygmaty nauki:\n",
        "\n",
        "* ***Uczenie z nauczycielem*** (supervised learning) - polega ona na zindentyfikowaniu danych wejściowych oraz danych wyjściowych, kórych przewidywania będziemy dokonywali my. W modelu tym znamy wyniki i na ich podstawie oceniamy jak bardzo trafne są przewidywania modelu wzglęgem podanego wyniku. Oceną poprawności wyników zajmują się algorytmy, o których powiem za chwilę. \n",
        "\n",
        "* ***Uczenie bez nauczyciela*** (unsupervised learning) - w porównaniu do poprzedniej metody, nie posiadamy danych wyjściowych. Jest to użyteczna metoda, w której nie szukamy wyniku, tylko zależności pomiędzy danymi, o których mogliśmy wcześniej nie mieć pojęcia.\n",
        "\n",
        "* ***Uczenie się ze wzmocnieniem*** (reinforcement learning) - jest to prawdopodobnie metoda, dla której podejmujesz ten kurs. Cieszy się ona ogromną popularnością, była ona także moim pierwszym kontaktem z zagadnieniem, jakim jest SI. Polega ona na zupełnie innym mechanizmie, niż poprzednie metody. Zamiast dostarczać dane, umieszczamy model wewnątrz środowiska, a zamiast wyników mamy cel, do którego model dochodzi za pomocą systemu kar i nagród. Najprostyszym sposobem na okazanie tej metody jest wizualizacja myszy w labiryncie. Wraz z zbliżaniem się do celu dostaje ona nagrodę w postaci dodatkowych punktów, a przy oddalaniu się od wyjścia traci je. Punkty te zostaną wyznaczone poprzez interakcję kolejnych generacji myszy, które używając informacji swoich poprzedników, będą próbowały osiągnąć jak najkrótszą trasę. Celem jest zmaksymalizowanie ilości zdobytych punktów w jak najmniejszym odcinku czasu.\n",
        "\n",
        "Każdemu z tych paradygmatów zostanie poświęcona osobna lekcja ze względu na to jak bardzo różnią się od siebie algorytmami, oraz ilością informacji które można o nich przedstawić. Reszta tej lekcji zostanie poświęcona na omówienie **uczenia z nauczycielem**.\n",
        "\n",
        "#Uczenie z nauczycielem\n",
        "\n",
        "Zanim poznamy jakiekolwiek algorytmy, warto wiedzieć, że dobór odpowiedniego algorymtu zależy od rodzaju danych, które posiadamy, i tego co chcemy znimi zrobić.\n",
        "\n",
        "##Dane\n",
        "\n",
        "Są istotną częścią SI, w końcu maszyna nie może się uczyć jeżeli nie będzie miała z czego się nauczyć. Istnieje kilka waznych pojęć które należy poznać:\n",
        "\n",
        "* **zbiór uczący** -  zestaw danych przeznaczony do uczenia\n",
        "algorytmów uczących. Składa się z obiektów pochodzących z pewnej dziedziny, opisanych przy pomocy cech\n",
        "* **próbka** - opis pojedynczego obiektu w zbiorze danych\n",
        "* **atrybut** - cecha użyta do opisania obiektu\n",
        "\n",
        "##Algorytmy\n",
        "\n",
        "Uczenie z nauczycielem jest często używaną metodą jako wprowadzenie do Sztucznej Inteligencji. W tym rodzaju nauki wyróżniamy dwa rodzaje algorytmów poprzez:\n",
        "\n",
        "1. Klasyfikację - polega ona na przyporządkowaniu klas do obiektów pochodzących z pewnych zbiorów\n",
        "* [Naiwny klasyfikator bayesowski](https://course.elementsofai.com/pl/3/3)\n",
        "* [Drzewo decyzyjne](https://brain.fuw.edu.pl/edu/index.php/Uczenie_maszynowe_i_sztuczne_sieci_neuronowe/DrzewaDecyzyjne)\n",
        "* [K – Najbliżsi sąsiedzi](https://datascience.eu/pl/programowanie-komputerowe/k-nearest-neighbors-potezny-algorytm-uczenia-sie-maszyn-z-implementacja-w-pythonie-i-r/)\n",
        "* [Losowy las](https://datascience.eu/pl/programowanie-komputerowe/zrozumienie-tajnikow-lasow-przypadkowych-w-pythonie/)\n",
        "* [Sieci neuronowe (deep learning)](https://www.sztucznainteligencja.org.pl/)\n",
        "2. Regresję\n",
        "* [Liniowa Regresja](https://www.naukowiec.org/wiedza/statystyka/regresja-liniowa_765.html)\n",
        "* [Sieci neuronowe (deep learning)](https://www.sztucznainteligencja.org.pl/kurs/sztuczna-inteligencja-dla-poczatkujacych/sztuczne-sieci-neuronowe/)\n",
        "* Regresyjne drzewa decyzyjne\n",
        "* [Regresja Lasso](https://datascience.eu/pl/uczenie-maszynowe/regresja-laserowa-prosta-definicja/)\n"
      ],
      "metadata": {
        "id": "pOUq7oPZ7E0Z"
      }
    },
    {
      "cell_type": "markdown",
      "source": [
        "#Sieci neuronowe\n",
        "\n",
        "Przyszedł czas na który prawdobodobnie czekałeś: sieci neuronowe. Do ich popularności przyczynia się fakt, iż można na nich wykonywać trenowanie poprzez regresję i klasyfikację. Przed pójściem w dalszą część lekcji warto wspomnieć, że sieci neuronowe nie są częścią uczenia maszynowego, tylko jego podkategorią nazywaną **głębokim uczeniem** (deep learning). Nie jest to jednak na tyle istotne w tej części kursu. W następnych punktach skupimy się na typie nazywanym [***siecią jednokierunkową***](https://pl.wikipedia.org/wiki/Sie%C4%87_neuronowa), [**sieci, która przekazuje danych od lewej do prawej.**]\n",
        "\n",
        "##Czym są sieci neuronowe\n",
        "\n",
        "Sieci neuronowe są również nazywane głębokimi sieciami uczenia, ze względu na występywanie wielu warstw, przez które przechodzą informacje w modelu.\n",
        "\n",
        "Sztuczna sieć neuronowa jest strukturą matematyczną, która jest uproszczeniem modelu ludzkiego mózgu. Składa się ona z dużej liczby neuronów przetwarzających informacje. [**Neurony są powiązane w sieć za pomocą połączeń o parametrach**] (tzw. wagach) modyfikowanych w trakcie procesu uczenia. Topologia połączeń, oraz ich parametry stanowią program działania sieci, zaś sygnały pojawiające się na jej wyjściach w odpowiedzi na określone sygnały wejściowe są rozwiązaniami stawianych dla niej zadań.\n",
        "\n",
        "![neuron](https://drive.google.com/uc?id=1PYxpOeu5vm5iqi67dK6nODiytHRhcIwl)\n",
        "\n",
        "Tak wygląda przykładowy neuron w sieci neuronowej, sygnał przechodzący przez neuron zostaje poddany transformacji\n",
        "\n",
        "> $Y =(\\sum_{i=0}^n w_i x_i) + b$\n",
        "\n",
        "Gdzie poszczególne elementy oznaczają:\n",
        "\n",
        "> $w$ - waga połączenia do neurona\n",
        "\n",
        "> $x$ - wartość połączenia otrzymana z poprzedniego neurona\n",
        "\n",
        "> $b$ - bias, wartość stała\n",
        "\n",
        "> $n$ - ilość połączeń pomiędzy neuronami w warstwie\n",
        "\n",
        "> $Y$ - wynik danego neuronu\n",
        "\n",
        "> $\\sum$ - suma zdefiniowanych elementów \n",
        "\n",
        "Powyższe równanie jest sumą ważoną. Do sumy tej zostaje dodany bias, który służy jako przesunięcie wartości względem osi y. Wprowadza to różnorodność do modelu co pozwala na bardziej rozbudowane eksperymenty. Wartość tej sumy wraz z biasem jest często nazywana pobudzeniem neuronu. \n",
        "\n",
        "W celu wprowadzenia złożoności do naszej sieci neuronowej, wynik każdego neuronu jest używany jako argument funkcji aktywacji. Funkcja aktywacji zostanie omówiona później. Ostateczny wzór na wynik neuronu prezentuje się następująco\n",
        "\n",
        "> $Y =F((\\sum_{i=0}^n w_i x_i) + b)$\n",
        "\n",
        "> $F$ - funkcja aktywacji\n",
        "\n",
        "Dokładniejsze informacje można znaleść w zakładce [**Odnośniki**](#scrollTo=eVzPW2HLsN3E).\n",
        "\n",
        "##Budowa sieci\n",
        "\n",
        "Po zapoznaniu się z budową neuronu, przyszedł czas na wprowadzenie budowy sieci, która się z nich składa\n",
        "\n",
        "![siec](https://drive.google.com/uc?id=1szZ8ZMt0LBmKecYmXX7nGyMaZu439Fil)\n",
        "\n",
        "Przed przejściem do opisu budowy sieci, ważnym czynnikiem wpływającym na jej budowę są dane. Dane te możemy pogrupować w następujące kategorie:\n",
        "\n",
        "- Wektory (2D)\n",
        "- Timeseries or Sequence (3D)\n",
        "- Zdjęcia (4D)\n",
        "- Video (5D)\n",
        "\n",
        "W zależności od danych, możliwa jest potrzeba na dodatkową obróbkę przed przekazaniem ich do modelu.\n",
        "\n",
        "###Warstwy\n",
        "Sieć składa się z warstw odpowiedzialnych za transformację danych, które zostają podane do modelu sieci za pomocą warstwy wejściowej.\n",
        "\n",
        "###Warstwa wejściowa\n",
        "Jest pierwszą warstwą w sieci neuronowej, optymalna ilość wejść(neuronów) w tej warstwie powinna zostać dopasowana do ilości danych, które podamy do sieci. W celu uniknięcia przeciążenia wejścia stosuje się zabieg \"dawkowania\" danych w specjalnym trybie nauki. Ilość neuronów w tej wartwie zależy od wyników, które będziemy otrzymywali.\n",
        "\n",
        "###Warstwa ukryta\n",
        "Warstwa lub warstwy, których ilość wpływa na złożoność sieci. Nazwa ta wywodzi się z faktu, iż nie mamy wglądu na ich wynik pracy. Zasada doboru ilości neuronów znajduję się w [tym artykule](https://medium.com/geekculture/introduction-to-neural-network-2f8b8221fbd3), choć nie jest to wymóg lecz tylko zalecenie. Ostatecznie wszystko będzie zależało od pracy, którą chcemy wykonać na tej sieci.\n",
        "\n",
        "###Połączenia\n",
        "Neurony w każdej warstwie są połączone z neuronami z warstwy poprzedniej. Sposóbów na ich połączenie jest kilka. W przykładzie powyżej neurony są połączone w tak zwanym *układzie gęsto połączonym*, oznacza to poprostu połączenie kązdy z każdym. Istnieje metoda na eliminację zbędnych połączęń."
      ],
      "metadata": {
        "id": "1-M7ro2L6ltw"
      }
    },
    {
      "cell_type": "markdown",
      "source": [
        "##Wagi\n",
        "Każde połączenie występujące w sieci posiada włąsną wagę. Jest to jeden z kluczowych elementów sieci. Wartość początkowa jest losowa, a sieć dokonuje modyfikacji wraz z postępem nauki.\n",
        "\n",
        "##Bias\n",
        "Został już wcześniej omówiony, jest przydatnym elementem przy doborze funkcji akywacji.\n",
        "\n",
        "##Funkcja aktywacji\n",
        "Jest to funkcja używana do tranformacji wyniku sumy ważonej neuronu. Wprowadzenie takiej funkcji wprowadza dodatkowy poziom złożoności, który pozwala otrzymywać lepsze przewidywane wyniki. Do powrzechnego użytku weszły trzy rodzaje funkcji.\n",
        "\n",
        "> Funkcja sigmoidalna (Sigmoid)\n",
        "![sigma](https://drive.google.com/uc?id=1itxBkrfw2Dfd9N1p8uq7owE_Il6ofhqA)\n",
        "\n",
        "\n",
        "> Funkcja tangensa hiperbolicznego (Hyperbolic Tangent)\n",
        "![tanh](https://drive.google.com/uc?id=1yIbQhDaHBHMN58pH84QKDmY83KLwGkkU)\n",
        "\n",
        "\n",
        "> Funkcja reLU (rectifier Linear Unit)\n",
        "![relu](https://drive.google.com/uc?id=1DnVWMQK-C4eVQ0qcMffCsTCP8K0fc8ce)\n"
      ],
      "metadata": {
        "id": "Y4uuL3m86bda"
      }
    },
    {
      "cell_type": "markdown",
      "source": [
        "##Algorytm trenowania sieci\n",
        "\n",
        "Po zapoznaniu się z budową sieci, pszyszedł czas na wyjaśnienie jak odbywa się proces nauki. Wiadomo już, że odbywa się on poprzez dostosowywanie różnych parametrów jak wagi czy biasy, jest za to opdowiedzialna [wsteczna propagacja błędu](http://wmii.uwm.edu.pl/~bnowak/userfiles/downloads/dydaktyka/Metody_Inzynierii_Wiedzy/Lab_wsteczna_propagacja.pdf). W celu zrozumienia jak on działa, istotne będzie zapoznanie się z funkcją miary błędów, lub inaczej nazywaną funkcją kosztów.\n",
        "\n",
        "###Funkcja miary błędów\n",
        "\n",
        "Przed wyjaśnieniem tego pojęcia, sieć, o której mówimy, jest siecią jednokierunkową wielowarstwową. Będzie to preferowany typ sieci w tym kursie, w celu zapoznania się z innymi typami odsyłam do [tego załącznika](https://pl.wikipedia.org/wiki/Sie%C4%87_neuronowa).\n",
        "\n",
        "Na początku sieć neuronowa zaczyna pracę z losowymi wartościami wag i biasów.\n",
        "W celu określenia sprawności/poprawności wyników sieci neuronowej i dostosowania wag i biasów, przy uzyciu wstecznej propagacji błędów, istnieje potrzeba na określenie jak zmienić podane parametry. Dzięki temu, że wiemy jakie są dane oraz ich wyniki, można porównać je z tymi wygenerowanymi przez sieć, i na tej podstawie określić sprawność sieci. W tym celu istnieje kilka różnych funkcji miary błędów:\n",
        "* [Błąd średniokwadratowy (Mean Squared Error)](https://visualmonsters.cba.pl/prognozowanie/blad-sredniokwadratowy-mse-pierwiastek-bledu-sredniokwadratowego-rmse/)\n",
        "* [Błąd sredniobezwzględny (Mean Absolute Error)](https://media.statsoft.pl/_old_dnn/downloads/sztuczna_inteligencja_w_prognozowaniu.pdf)\n",
        "* [Funkcja straty (Hinge loss)](https://en.wikipedia.org/wiki/Hinge_loss)\n",
        "\n",
        "###Optymalizacja uczenia\n",
        "\n",
        "To jednak nie odpowiada na pytanie jak sieć dobiera nowe wagi i biasy. Dzięki funkcji miary błędów, wiemy jak dobrze, lub jak źle radzi sobie nasza sieć. Wsteczna propagacja zajmuje się aktualizowaniem wag i biasów. Kluczową kwestią jest, skąd biorą się te nowe wartości, jest na to kilka sposobów. Istnieje [kilka metod](https://towardsdatascience.com/optimizers-for-training-neural-network-59450d71caf6), jednak najpopularniejszymi z nich będą \n",
        "\n",
        "* [Metoda momentum](https://towardsdatascience.com/10-gradient-descent-optimisation-algorithms-86989510b5e9) - jest to prostsza metoda która polega na dodaniu dodatkowego współczynnika przy wyliczaniu nowych wag.\n",
        "\n",
        "* [Algorytm spadku gradientu](https://comuedu.ru/pl/smart-tv/stohasticheskii-gradientnyi-spusk-varianty-realizacii.html) - jest znacznie bardziej skompikowana od jej poprzednika, link do źródła znacznie lepiej wyczerpie dany temat.\n",
        "![gradient](https://drive.google.com/uc?id=1W00IGa24PMuY3EjOhmMfT-2wBEvLfUdT)\n",
        "\n",
        "###3.3.3 [Współczynnik uczenia](https://books.google.pl/books?id=LX4_CgAAQBAJ&lpg=PA2&ots=C814XqK1kZ&dq=sieci%20neuronowe%20wspolczynnik%20uczenia&lr&hl=pl&pg=PA123#v=onepage&q=wsp%C3%B3%C5%82czynnik%20uczenia&f=false)\n",
        "\n",
        "Podsumowując, funkcja miary błędów wyznacza jak postępuje uczenie się sieci,\n",
        "algorytm uczenia wyznacza kierunek, w którym musimy dokonać zmiany wag i biasów a na końcu wsteczna propagacja błędu aktualizuje te parametry. Przed przejściem do praktycznej części tej lekcji, musimy wprowadzić do procesu uczenia jeszcze jeden parametr: współczynnik uczenia. Jest on odpowiedzialny za ustalenie jak bardzo zmienimy parametry w wskazanym kierunku, wpływa on znacznie na szybkość uczenia się sieci.\n",
        "\n",
        "Teraz gdy poznaliśmy cały przebieg procesu uczenia czas przejść do stworzenia sieci."
      ],
      "metadata": {
        "id": "5Y-DJkIN1LHZ"
      }
    },
    {
      "cell_type": "markdown",
      "source": [
        "##Budowanie i wdrażanie sieci neuronowej z użyciem regresji\n",
        "\n",
        "Na początek zajmiemy się zbudowaniem prostej sieci, która będzie miała za zadanie przewidzieć wartości funkcji liniowej. W tym celu użyjemy regresji, której zadaniem jest przewidywanie konkretnych wartości liczbowych. Na początek zaczniemy od prostego przykładu, w którym będziemy przewidywali wartości części funkcji sinusoidalnej.\n",
        "\n",
        "###Wczytanie bibliotek\n",
        "Pierwszym krokiem będzie wczytanie odpowiednich bibliotek"
      ],
      "metadata": {
        "id": "e20TnGxs8sOn"
      }
    },
    {
      "cell_type": "code",
      "source": [
        "%tensorflow_version 2.x\n",
        "import tensorflow as tf\n",
        "from tensorflow import keras\n",
        "\n",
        "# biblioteki pomocnicze\n",
        "import math\n",
        "import numpy as np\n",
        "import matplotlib.pyplot as plt"
      ],
      "metadata": {
        "id": "b6NtMTZ39B88"
      },
      "execution_count": null,
      "outputs": []
    },
    {
      "cell_type": "markdown",
      "source": [
        "Wygenerujemy fragment funkcji sinusoidalnej do nauki. W celu zapewnienia odpowiedniej ilości danych wygenerowano 2000 punktów."
      ],
      "metadata": {
        "id": "dtwV3XXtUx10"
      }
    },
    {
      "cell_type": "code",
      "source": [
        "x = tf.linspace(-math.pi, math.pi, 2000)\n",
        "y = tf.sin(x)"
      ],
      "metadata": {
        "id": "pM-Ux_G_QhFO"
      },
      "execution_count": null,
      "outputs": []
    },
    {
      "cell_type": "markdown",
      "source": [
        "Zobaczmy jak wygląda funkcja."
      ],
      "metadata": {
        "id": "-565p9JyVA2e"
      }
    },
    {
      "cell_type": "code",
      "source": [
        "fig = plt.figure()\n",
        "fig.set_size_inches(12, 7)\n",
        "\n",
        "# tworzymy główną oś\n",
        "ax = fig.add_subplot(1, 1, 1)\n",
        "ax.spines['left'].set_position('center')\n",
        "ax.spines['bottom'].set_position('center')\n",
        "ax.spines['right'].set_color('none')\n",
        "ax.spines['top'].set_color('none')\n",
        "ax.xaxis.set_ticks_position('bottom')\n",
        "ax.yaxis.set_ticks_position('left')\n",
        "\n",
        "#dodajemy naszą funckję na graf\n",
        "plt.plot(x, y, '-r', label='y=sin(x)')\n",
        "plt.xlabel('x', color='#1C2833')\n",
        "plt.ylabel('y', color='#1C2833')\n",
        "plt.legend(loc='upper left')\n",
        "plt.plot()\n",
        "plt.show()"
      ],
      "metadata": {
        "colab": {
          "base_uri": "https://localhost:8080/",
          "height": 411
        },
        "id": "x1LgwWWZQ8oG",
        "outputId": "83560424-a9e9-4c47-ce6d-fc5bb23061c3"
      },
      "execution_count": null,
      "outputs": [
        {
          "output_type": "display_data",
          "data": {
            "text/plain": [
              "<Figure size 864x504 with 1 Axes>"
            ],
            "image/png": "[encoded data removed]"
          },
          "metadata": {
            "needs_background": "light"
          }
        }
      ]
    },
    {
      "cell_type": "markdown",
      "source": [
        "Po przetrenowaniu sieci, należy dokonać testu sieci na innych danych, niż tych użytych do nauki w celu uniknięcia uczenia się sieci na pamięć. Jest to wysoce nie pożądane zjawisko, w tym celu wyodrębnimy ostatnie 200 wartości."
      ],
      "metadata": {
        "id": "jDu5rs5hVE9_"
      }
    },
    {
      "cell_type": "code",
      "source": [
        "x_train = x[:1800]\n",
        "y_train = y[:1800]\n",
        "\n",
        "x_test = x[1800:]\n",
        "y_test = y[1800:]"
      ],
      "metadata": {
        "id": "paY54cEIRMt6"
      },
      "execution_count": null,
      "outputs": []
    },
    {
      "cell_type": "markdown",
      "source": [
        "Po tym jak przygotowaliśmy dane, przyszedł czas na zbudowanie modelu sieci. Poniższy model jest modelem sieci jednokierunkowej. Więcej o tym w [dokumentacji](https://keras.io/guides/sequential_model/). Warstwa wyjściowa nie jest fizyczną warstwą sieci, odpowiedzialna jest za przekazanie danych w odpowienim formacie poprzez komendę `input_dim=1`. Jest ona wymagana, ponieważ sieć musi wiedzieć jakiego formatu są dane wejściowe, przekazujemy tabelę 1 - wymiarowe."
      ],
      "metadata": {
        "id": "2RewubgNVhRV"
      }
    },
    {
      "cell_type": "code",
      "source": [
        "model = keras.Sequential([\n",
        "    keras.layers.Dense(15, input_dim=1, activation='relu'),  # 1 warstwa ukryta (2)\n",
        "    keras.layers.Dense(1) # warstwa wyjściowa (3)\n",
        "])"
      ],
      "metadata": {
        "id": "rdLZQ13vRWkf"
      },
      "execution_count": null,
      "outputs": []
    },
    {
      "cell_type": "markdown",
      "source": [
        "Należy skompilować model, podając funkcję kosztów czy funkcję optymalizacji. W razie potrzeby ustalenia dodatkowych parametrów jak momentum, czy współczynnik uczenia należy jest uzupełnić przy odpowiednich funkcjach. Możliwe parametry znajdują się w [dokumentacji](https://keras.io/api/models/model_training_apis/#compile-method)."
      ],
      "metadata": {
        "id": "WHgeiIJKWr3f"
      }
    },
    {
      "cell_type": "code",
      "source": [
        "model.compile(loss='mean_squared_error', \n",
        "              optimizer='adam')"
      ],
      "metadata": {
        "id": "Ky3wxRmhRZdK"
      },
      "execution_count": null,
      "outputs": []
    },
    {
      "cell_type": "markdown",
      "source": [
        "Na koniec, wystarczy już tylko jedna prosta komenda do przetrenowania sieci. Metoda fit również posiada obszerną [dokumentację](https://keras.io/api/models/model_training_apis/#fit-method), która zawiera wszystkie możliwe parametry."
      ],
      "metadata": {
        "id": "HM7A31GOXE9n"
      }
    },
    {
      "cell_type": "code",
      "source": [
        "model.fit(x_train, y_train, epochs=15)"
      ],
      "metadata": {
        "colab": {
          "base_uri": "https://localhost:8080/"
        },
        "id": "6_DFNR6LRdtI",
        "outputId": "c722ab1b-a07f-4a2a-a0e1-973b935b75b3"
      },
      "execution_count": null,
      "outputs": [
        {
          "output_type": "stream",
          "name": "stdout",
          "text": [
            "Epoch 1/15\n",
            "57/57 [==============================] - 1s 1ms/step - loss: 0.3442\n",
            "Epoch 2/15\n",
            "57/57 [==============================] - 0s 1ms/step - loss: 0.1421\n",
            "Epoch 3/15\n",
            "57/57 [==============================] - 0s 2ms/step - loss: 0.0989\n",
            "Epoch 4/15\n",
            "57/57 [==============================] - 0s 1ms/step - loss: 0.0845\n",
            "Epoch 5/15\n",
            "57/57 [==============================] - 0s 2ms/step - loss: 0.0747\n",
            "Epoch 6/15\n",
            "57/57 [==============================] - 0s 2ms/step - loss: 0.0662\n",
            "Epoch 7/15\n",
            "57/57 [==============================] - 0s 1ms/step - loss: 0.0593\n",
            "Epoch 8/15\n",
            "57/57 [==============================] - 0s 1ms/step - loss: 0.0532\n",
            "Epoch 9/15\n",
            "57/57 [==============================] - 0s 1ms/step - loss: 0.0476\n",
            "Epoch 10/15\n",
            "57/57 [==============================] - 0s 1ms/step - loss: 0.0425\n",
            "Epoch 11/15\n",
            "57/57 [==============================] - 0s 2ms/step - loss: 0.0380\n",
            "Epoch 12/15\n",
            "57/57 [==============================] - 0s 1ms/step - loss: 0.0337\n",
            "Epoch 13/15\n",
            "57/57 [==============================] - 0s 1ms/step - loss: 0.0299\n",
            "Epoch 14/15\n",
            "57/57 [==============================] - 0s 1ms/step - loss: 0.0266\n",
            "Epoch 15/15\n",
            "57/57 [==============================] - 0s 2ms/step - loss: 0.0236\n"
          ]
        },
        {
          "output_type": "execute_result",
          "data": {
            "text/plain": [
              "<keras.callbacks.History at 0x7f1566cb3a10>"
            ]
          },
          "metadata": {},
          "execution_count": 6
        }
      ]
    },
    {
      "cell_type": "markdown",
      "source": [
        "W celu sprawdzenia skuteczności nauki sieci, należy dokonać sprawdzenia na danych z którymi nie miała ona jeszcze styczności, pozwoli to uzyskać prawdziwe wyniki co do błędu przewidywania. Naturalnym jest fakt iż sprawność testowa będzie mniejsza od wyników przy trenowaniu. Znaczny spadek oznacza że sieć została [przetrenowana](https://www.brutalk.com/ru/brutalk-blog/view/jak-uniknac-nadmiernego-dopasowania-w-sieciach-neuronowych-uczenia-glebokiego-6046fe01d055f) i zamiast uczyć się przewidywać, zapamiętała poprawne dane."
      ],
      "metadata": {
        "id": "zofi9khqXpY3"
      }
    },
    {
      "cell_type": "code",
      "source": [
        "test_loss= model.evaluate(x_test, y_test, verbose=1) \n",
        "\n",
        "print('Test loss:', test_loss)"
      ],
      "metadata": {
        "colab": {
          "base_uri": "https://localhost:8080/"
        },
        "id": "LZr9cg2QRkzM",
        "outputId": "6fa8338b-9555-4781-efc8-faefc9424e6a"
      },
      "execution_count": null,
      "outputs": [
        {
          "output_type": "stream",
          "name": "stdout",
          "text": [
            "7/7 [==============================] - 0s 2ms/step - loss: 0.6157\n",
            "Test loss: 0.6157132983207703\n"
          ]
        }
      ]
    },
    {
      "cell_type": "markdown",
      "source": [
        ""
      ],
      "metadata": {
        "id": "VoCZ9O_LbTPM"
      }
    },
    {
      "cell_type": "markdown",
      "source": [
        "Sieć nauczyła się przewidywać wartości zadanej funkcji, sprawdźmy jak dobrze sobie w tym radzi."
      ],
      "metadata": {
        "id": "9tAgQvkPZudv"
      }
    },
    {
      "cell_type": "code",
      "source": [
        "predict = model.predict(y)"
      ],
      "metadata": {
        "id": "HttNASVdbXNb"
      },
      "execution_count": null,
      "outputs": []
    },
    {
      "cell_type": "code",
      "source": [
        "fig = plt.figure()\n",
        "fig.set_size_inches(12, 7)\n",
        "\n",
        "# tworzymy główną oś\n",
        "ax = fig.add_subplot(1, 1, 1)\n",
        "ax.spines['left'].set_position('center')\n",
        "ax.spines['bottom'].set_position('center')\n",
        "ax.spines['right'].set_color('none')\n",
        "ax.spines['top'].set_color('none')\n",
        "ax.xaxis.set_ticks_position('bottom')\n",
        "ax.yaxis.set_ticks_position('left')\n",
        "\n",
        "#dodajemy naszą funckję na graf\n",
        "plt.plot(x, y, '-r', label='y=sin(x)')\n",
        "plt.xlabel('x', color='#1C2833')\n",
        "plt.ylabel('y', color='#1C2833')\n",
        "plt.legend(loc='upper left')\n",
        "\n",
        "plt.plot(x, predict.flatten(), '-g', label='aprox')\n",
        "plt.xlabel('x', color='#1C2833')\n",
        "plt.ylabel('y', color='#1C2833')\n",
        "plt.legend(loc='upper left')\n",
        "\n",
        "plt.plot()\n",
        "plt.show()"
      ],
      "metadata": {
        "id": "TVff_HOCS0LB",
        "colab": {
          "base_uri": "https://localhost:8080/",
          "height": 411
        },
        "outputId": "f8c51411-c657-4797-802a-b20cbf395d0d"
      },
      "execution_count": null,
      "outputs": [
        {
          "output_type": "display_data",
          "data": {
            "text/plain": [
              "<Figure size 864x504 with 1 Axes>"
            ],
            "image/png": "[encoded data removed]"
          },
          "metadata": {
            "needs_background": "light"
          }
        }
      ]
    },
    {
      "cell_type": "markdown",
      "source": [
        "###Podsumowanie\n",
        "\n",
        "Poniżej znajduje się cały kod, zachęca się do testowania różnych kombinacji parametrów w celu uzyskania jeszcze lepszej sprawności nauczania."
      ],
      "metadata": {
        "id": "CU1lx4_7Z5O1"
      }
    },
    {
      "cell_type": "code",
      "source": [
        "%tensorflow_version 2.x\n",
        "import tensorflow as tf\n",
        "from tensorflow import keras\n",
        "\n",
        "# biblioteki pomocnicze\n",
        "import math\n",
        "import numpy as np\n",
        "import matplotlib.pyplot as plt\n",
        "\n",
        "keras.backend.clear_session() #jest to wymagana linia resetująca poprawnie model.\n",
        "\n",
        "x = tf.linspace(-math.pi, math.pi, 2000)\n",
        "y = tf.sin(x)\n",
        "\n",
        "x_train = x[:1800]\n",
        "y_train = y[:1800]\n",
        "\n",
        "x_test = x[1800:]\n",
        "y_test = y[1800:]\n",
        "\n",
        "model = keras.Sequential([\n",
        "    keras.layers.Dense(15, input_dim=1, activation='relu'),  # 1 warstwa ukryta (2)\n",
        "    keras.layers.Dense(1) # warstwa wyjściowa (3)\n",
        "])\n",
        "\n",
        "model.compile(loss='mean_squared_error', \n",
        "              optimizer='adam')\n",
        "\n",
        "model.fit(x_train, y_train, epochs=15)\n",
        "\n",
        "test_loss= model.evaluate(x_test, y_test, verbose=1) \n",
        "print('Test loss:', test_loss)\n",
        "\n",
        "predict = model.predict(y)\n",
        "\n",
        "fig = plt.figure()\n",
        "fig.set_size_inches(12, 7)\n",
        "\n",
        "# tworzymy główną oś\n",
        "ax = fig.add_subplot(1, 1, 1)\n",
        "ax.spines['left'].set_position('center')\n",
        "ax.spines['bottom'].set_position('center')\n",
        "ax.spines['right'].set_color('none')\n",
        "ax.spines['top'].set_color('none')\n",
        "ax.xaxis.set_ticks_position('bottom')\n",
        "ax.yaxis.set_ticks_position('left')\n",
        "\n",
        "#dodajemy naszą funckję na graf\n",
        "plt.plot(x, y, '-r', label='y=sin(x)')\n",
        "plt.xlabel('x', color='#1C2833')\n",
        "plt.ylabel('y', color='#1C2833')\n",
        "plt.legend(loc='upper left')\n",
        "\n",
        "plt.plot(x, predict.flatten(), '-g', label='aprox')\n",
        "plt.xlabel('x', color='#1C2833')\n",
        "plt.ylabel('y', color='#1C2833')\n",
        "plt.legend(loc='upper left')\n",
        "\n",
        "plt.plot()\n",
        "plt.show()"
      ],
      "metadata": {
        "id": "zCbt4Le_aL-h",
        "outputId": "957d24d8-60fd-4472-8c6f-df82e92d81e5",
        "colab": {
          "base_uri": "https://localhost:8080/",
          "height": 967
        }
      },
      "execution_count": null,
      "outputs": [
        {
          "output_type": "stream",
          "name": "stdout",
          "text": [
            "Epoch 1/15\n",
            "57/57 [==============================] - 0s 2ms/step - loss: 0.5111\n",
            "Epoch 2/15\n",
            "57/57 [==============================] - 0s 2ms/step - loss: 0.2032\n",
            "Epoch 3/15\n",
            "57/57 [==============================] - 0s 2ms/step - loss: 0.1151\n",
            "Epoch 4/15\n",
            "57/57 [==============================] - 0s 1ms/step - loss: 0.0922\n",
            "Epoch 5/15\n",
            "57/57 [==============================] - 0s 1ms/step - loss: 0.0804\n",
            "Epoch 6/15\n",
            "57/57 [==============================] - 0s 1ms/step - loss: 0.0708\n",
            "Epoch 7/15\n",
            "57/57 [==============================] - 0s 1ms/step - loss: 0.0619\n",
            "Epoch 8/15\n",
            "57/57 [==============================] - 0s 1ms/step - loss: 0.0537\n",
            "Epoch 9/15\n",
            "57/57 [==============================] - 0s 1ms/step - loss: 0.0461\n",
            "Epoch 10/15\n",
            "57/57 [==============================] - 0s 1ms/step - loss: 0.0393\n",
            "Epoch 11/15\n",
            "57/57 [==============================] - 0s 1ms/step - loss: 0.0337\n",
            "Epoch 12/15\n",
            "57/57 [==============================] - 0s 1ms/step - loss: 0.0283\n",
            "Epoch 13/15\n",
            "57/57 [==============================] - 0s 1ms/step - loss: 0.0241\n",
            "Epoch 14/15\n",
            "57/57 [==============================] - 0s 2ms/step - loss: 0.0203\n",
            "Epoch 15/15\n",
            "57/57 [==============================] - 0s 1ms/step - loss: 0.0177\n",
            "7/7 [==============================] - 0s 2ms/step - loss: 0.5417\n",
            "Test loss: 0.5416991710662842\n"
          ]
        },
        {
          "output_type": "display_data",
          "data": {
            "text/plain": [
              "<Figure size 864x504 with 1 Axes>"
            ],
            "image/png": "[encoded data removed]"
          },
          "metadata": {
            "needs_background": "light"
          }
        }
      ]
    },
    {
      "cell_type": "markdown",
      "source": [
        "##3.5. Budowanie i wdrażanie sieci neuronowej z użyciem klasyfikacji\n",
        "\n",
        "W tym przykładzie użyjemy sieci neuronowej do klasyfikacji danych.\n",
        "\n",
        "###Wczytanie bibliotek\n",
        "Pierwszym krokiem będzie wczytanie odpowiednich bibliotek"
      ],
      "metadata": {
        "id": "8F0JMrQWeDxr"
      }
    },
    {
      "cell_type": "code",
      "source": [
        "%tensorflow_version 2.x\n",
        "import tensorflow as tf\n",
        "from tensorflow import keras\n",
        "\n",
        "# biblioteki pomocnicze\n",
        "import numpy as np\n",
        "import matplotlib.pyplot as plt"
      ],
      "metadata": {
        "id": "PrhmKaHKA4bB"
      },
      "execution_count": null,
      "outputs": []
    },
    {
      "cell_type": "markdown",
      "source": [
        "###Wczytanie danych\n",
        "\n",
        "Kolejnym krokiem będzie pobranie i wczytanie danych do pracy, w tym celu pobierzemy jeden z gotowych zestawów danych. \n",
        "\n",
        "Będzie to zestaw [MNIST digits](https://keras.io/api/datasets/mnist/) złożony z 70000 szarych zdjęć ręcznie napisanych cyfr o rozmiarze 28x28 podzielonych na 60000 zdjęć do trenowania i 10000 zdjęć do testowania sprawności zdjęć."
      ],
      "metadata": {
        "id": "-JQgZrV3A-yM"
      }
    },
    {
      "cell_type": "code",
      "source": [
        "(train_img, train_label), (test_img, test_label) = keras.datasets.mnist.load_data() #dokonujemy podziału na dane testowe i dane trenowania, więcej o tym później"
      ],
      "metadata": {
        "colab": {
          "base_uri": "https://localhost:8080/"
        },
        "id": "nLZE4dsyBKfU",
        "outputId": "a618d7b5-6b66-4a9b-b661-732d6df3b2d8"
      },
      "execution_count": null,
      "outputs": [
        {
          "output_type": "stream",
          "name": "stdout",
          "text": [
            "Downloading data from https://storage.googleapis.com/tensorflow/tf-keras-datasets/mnist.npz\n",
            "11493376/11490434 [==============================] - 0s 0us/step\n",
            "11501568/11490434 [==============================] - 0s 0us/step\n"
          ]
        }
      ]
    },
    {
      "cell_type": "markdown",
      "source": [
        "Po wczytaniu zestawu, zobaczmy jak wygląda kształt naszych danych."
      ],
      "metadata": {
        "id": "sc0rsmVjErr0"
      }
    },
    {
      "cell_type": "code",
      "source": [
        "test_img.shape"
      ],
      "metadata": {
        "colab": {
          "base_uri": "https://localhost:8080/"
        },
        "id": "iD3jP1sZFDKs",
        "outputId": "e089feba-1e31-4864-d118-73907a45f3bb"
      },
      "execution_count": null,
      "outputs": [
        {
          "output_type": "execute_result",
          "data": {
            "text/plain": [
              "(10000, 28, 28)"
            ]
          },
          "metadata": {},
          "execution_count": 14
        }
      ]
    },
    {
      "cell_type": "markdown",
      "source": [
        "Oznacza to że w zestawie danych jest 60000 rekordów o rozmiarze 28 x 28 co daje 784 pixeli na zdjęcie.\n",
        "\n",
        "Każdy z pixeli przedstawia liczbę o wartości w przediale od 0 do 255, gdzie 255 oznacza kolor biały a 0 czarny.\n",
        "\n",
        "W zestawie znajduje się 10 cyfr of 0 do 9. Dlatego musimy stworzyć wektor, który będzie musiał przechowywać zmienne string opisujące te cyfry.\n",
        "\n"
      ],
      "metadata": {
        "id": "6hfe0iAjFNgQ"
      }
    },
    {
      "cell_type": "code",
      "source": [
        "digits = ['zero', 'jeden', 'dwa', 'trzy', 'cztery',\n",
        "               'piec', 'szesc', 'siedem', 'osiem', 'dziewiec']"
      ],
      "metadata": {
        "id": "RZVl7mv-PsJk"
      },
      "execution_count": null,
      "outputs": []
    },
    {
      "cell_type": "markdown",
      "source": [
        "Oto wygląd dowolnego elementu z zestawu"
      ],
      "metadata": {
        "id": "ADagRDKPPtMq"
      }
    },
    {
      "cell_type": "code",
      "source": [
        "plt.figure()\n",
        "plt.imshow(train_img[36696])\n",
        "plt.colorbar()\n",
        "plt.grid(False)\n",
        "plt.show()"
      ],
      "metadata": {
        "colab": {
          "base_uri": "https://localhost:8080/",
          "height": 265
        },
        "id": "O4Cv6VmaH72U",
        "outputId": "f5936a68-6623-45fc-8246-eebc2f5f8635"
      },
      "execution_count": null,
      "outputs": [
        {
          "output_type": "display_data",
          "data": {
            "text/plain": [
              "<Figure size 432x288 with 2 Axes>"
            ],
            "image/png": "[encoded data removed]"
          },
          "metadata": {
            "needs_background": "light"
          }
        }
      ]
    },
    {
      "cell_type": "markdown",
      "source": [
        "###Przetwarzanie danych\n",
        "\n",
        "Przed podaniem naszych danych do sieci neuronowej musimy je przetransformować. Znormalizujmy nasze dane z przedziału 0-255 do przedziału 0-1. W tym celu dokonamy dzielenia przez 255, przyśpieszy to działanie sieci. Proces ten musimy wykonać dla naszych danych trenowania oraz danych testowania."
      ],
      "metadata": {
        "id": "a6Wyh-kEI25M"
      }
    },
    {
      "cell_type": "code",
      "source": [
        "train_img = train_img / 255.0\n",
        "test_img = test_img / 255.0"
      ],
      "metadata": {
        "id": "uWp48j3FLujO"
      },
      "execution_count": null,
      "outputs": []
    },
    {
      "cell_type": "markdown",
      "source": [
        "##Budowanie sieci\n",
        "\n",
        "Przyszedł wreszcie czas na budowę modelu naszej sieci. Wykorzystamy sieć 3-warstową. \n",
        "\n",
        "Warstwa wejściowa będzie składała się z 784 neuronów, każdy z nich odpowiada jednemu pixelowi na zdjeciu.\n",
        "\n",
        "Warstwa ukryta posiada 128 neuronów.\n",
        "\n",
        "Warstwa wyjściowa będzie składała się z 10 neuronów każdy odpowiadający jednej z 10 przewidywanych cyfr.\n",
        "\n",
        "Więcej o budowie modelu keras można znaleść w [dokumentcaji](https://keras.io/api/layers/activations/)"
      ],
      "metadata": {
        "id": "4rjOnCATQq0y"
      }
    },
    {
      "cell_type": "code",
      "source": [
        "model = keras.Sequential([\n",
        "    keras.layers.Flatten(input_shape=(28, 28)),  # warstwa wejściowa (1), jedynie transformuje dane\n",
        "    keras.layers.Dense(128, activation='relu'),  # 1 warstwa ukryta (2)\n",
        "    keras.layers.Dense(10, activation='softmax') # warstwa wyjściowa (3)\n",
        "])"
      ],
      "metadata": {
        "id": "f3Ot2kmARBJO"
      },
      "execution_count": null,
      "outputs": []
    },
    {
      "cell_type": "markdown",
      "source": [
        "Teraz gdy mamy przygotowaną strukturę sieci należy wybrać funkcję aktywacji, optymalizacji i miary błędów. Wybrane funkcje zostały dobrane losowo, na końcu będzie się znajdował pełny kod gdzie użytkownik może przetestować różne kombinacje korzystając z [dokumentacji](https://keras.io/api/models/model_training_apis/#compile-method). Istonym parametrem jest `metrics=['accuracy']`, to on głównie decyduje o klasyfikacji lub regresji."
      ],
      "metadata": {
        "id": "dE8Ec6buTVyO"
      }
    },
    {
      "cell_type": "code",
      "source": [
        "model.compile(optimizer='adadelta',\n",
        "              loss='sparse_categorical_crossentropy',\n",
        "              metrics=['accuracy'])"
      ],
      "metadata": {
        "id": "upJK4spITi_1"
      },
      "execution_count": null,
      "outputs": []
    },
    {
      "cell_type": "markdown",
      "source": [
        "##Trenowanie i ocenianie sprawności sieci\n",
        "\n",
        "Po zbudowaniu modelu przyszedł czas na trenowanie naszej sieci. W tym celu zostanie wykorzystana prosta komenda."
      ],
      "metadata": {
        "id": "uHiAR-xMtfHa"
      }
    },
    {
      "cell_type": "code",
      "source": [
        "model.fit(train_img, train_label, epochs=12)"
      ],
      "metadata": {
        "id": "dQRhGe91u_rD"
      },
      "execution_count": null,
      "outputs": []
    },
    {
      "cell_type": "markdown",
      "source": [
        "Epochs jest parametrem, który mówi ile razy sieć zapozna się z zestawem danych, który jej podamy.\n",
        "\n",
        "Po przetrenowaniu sieci nadszedł czas na ocenienie wyników. Posłuży do tego funkcja [`evaluate()`](https://www.tensorflow.org/api_docs/python/tf/keras/Model#evaluate)."
      ],
      "metadata": {
        "id": "mw-xNH1jvV9A"
      }
    },
    {
      "cell_type": "code",
      "source": [
        "test_loss, test_acc = model.evaluate(test_img,  test_label, verbose=1) \n",
        "\n",
        "print('Test accuracy:', test_acc, 'Test loss: ', test_loss)"
      ],
      "metadata": {
        "colab": {
          "base_uri": "https://localhost:8080/"
        },
        "id": "LHBq-8R3uc6Q",
        "outputId": "7ab4abf2-6af0-45bb-8153-72d36aa3cea4"
      },
      "execution_count": null,
      "outputs": [
        {
          "output_type": "stream",
          "name": "stdout",
          "text": [
            "313/313 [==============================] - 1s 2ms/step - loss: 0.9572 - accuracy: 0.8126\n",
            "Test accuracy: 0.8126000165939331 Test loss:  0.9571699500083923\n"
          ]
        }
      ]
    },
    {
      "cell_type": "markdown",
      "source": [
        "##Przewidywania\n",
        "\n",
        "Po przetrenowaniu sieci sprawdzilismy za pomocą danych testowania czy faktycznie sieć nauczyła się rozpoznawania danych, czy nauczyła się tych danych na pamięć. Takie zjawisko nazwywa się [overfitting](https://www.brutalk.com/ru/brutalk-blog/view/jak-uniknac-nadmiernego-dopasowania-w-sieciach-neuronowych-uczenia-glebokiego-6046fe01d055f).\n",
        "\n",
        "Do dokonywania przewidywań użyjemy funkcji [`predict()`](https://www.tensorflow.org/api_docs/python/tf/keras/Model#predict), aby załadować cały zestaw testowy."
      ],
      "metadata": {
        "id": "wuMHrs2MykAS"
      }
    },
    {
      "cell_type": "code",
      "source": [
        "predict = model.predict(test_img)"
      ],
      "metadata": {
        "id": "L6-hVTAo7GQz"
      },
      "execution_count": null,
      "outputs": []
    },
    {
      "cell_type": "markdown",
      "source": [
        "Teraz zmienna predict przechowuje wektor wartości przewidywanych dla każdej z 10 cyfr dla każdego zdjęcia z zestawu test_img."
      ],
      "metadata": {
        "id": "B6V98iIb7PFr"
      }
    },
    {
      "cell_type": "code",
      "source": [
        "test_sample = 6666\n",
        "predict[test_sample]"
      ],
      "metadata": {
        "colab": {
          "base_uri": "https://localhost:8080/"
        },
        "id": "vsFMbI2s7sR0",
        "outputId": "e8366209-6eb0-4b90-9672-25b06bb4a645"
      },
      "execution_count": null,
      "outputs": [
        {
          "output_type": "execute_result",
          "data": {
            "text/plain": [
              "array([0.01246053, 0.0132644 , 0.01512591, 0.02236296, 0.03491337,\n",
              "       0.01279773, 0.00501402, 0.7535938 , 0.02197169, 0.10849565],\n",
              "      dtype=float32)"
            ]
          },
          "metadata": {},
          "execution_count": 24
        }
      ]
    },
    {
      "cell_type": "markdown",
      "source": [
        "W celu określenia jakie jest największe prawdopodobieństwo, użyjemy funkcji [`argmax()`](https://www.tensorflow.org/api_docs/python/tf/math/argmax) w celu wyciągnięcia indeksu z największym prawdopodobieństwem."
      ],
      "metadata": {
        "id": "y2twgsqj7ywy"
      }
    },
    {
      "cell_type": "code",
      "source": [
        "max = np.argmax(predict[test_sample])\n",
        "print(max)"
      ],
      "metadata": {
        "colab": {
          "base_uri": "https://localhost:8080/"
        },
        "id": "Peip32168q7u",
        "outputId": "258f75df-25db-4fff-da99-1457462819e4"
      },
      "execution_count": null,
      "outputs": [
        {
          "output_type": "stream",
          "name": "stdout",
          "text": [
            "7\n"
          ]
        }
      ]
    },
    {
      "cell_type": "markdown",
      "source": [
        "Jeżeli indeks ten odpowiada indeksowi dla poprawnej cyfry z tabeli wynikowej `test_label`, to znaczy że sieć poprawnie rozpoznała cyfrę. Jest to specyficzne dla tego przypadku, ponieważ indeks, który się tutaj znajduje odpowiada bezpośrednio cyfrze której szukamy. Jednak w kazdym innym przypadku musimy porównać indeks przewidziany z indeksem z tabeli wynikowej `test_label`."
      ],
      "metadata": {
        "id": "ws4ezGxH9LWy"
      }
    },
    {
      "cell_type": "code",
      "source": [
        "test = test_label[test_sample]\n",
        "print('prawdziwa cyfra {}'.format(digits[test]))\n",
        "print('przewidywana cyfra {}'.format(digits[max]))\n",
        "plt.figure()\n",
        "plt.imshow(test_img[test_sample])\n",
        "plt.colorbar()\n",
        "plt.grid(False)\n",
        "plt.show()"
      ],
      "metadata": {
        "colab": {
          "base_uri": "https://localhost:8080/",
          "height": 304
        },
        "id": "_hW8ejWU9FW8",
        "outputId": "70589563-fbfa-4c7d-b810-4b16093f0d40"
      },
      "execution_count": null,
      "outputs": [
        {
          "output_type": "stream",
          "name": "stdout",
          "text": [
            "prawdziwa cyfra siedem\n",
            "przewidywana cyfra siedem\n"
          ]
        },
        {
          "output_type": "display_data",
          "data": {
            "text/plain": [
              "<Figure size 432x288 with 2 Axes>"
            ],
            "image/png": "[encoded data removed]"
          },
          "metadata": {
            "needs_background": "light"
          }
        }
      ]
    },
    {
      "cell_type": "markdown",
      "source": [
        "###Podsumowanie\n",
        "\n",
        "Przykład ten dotyczył klasyfikacji cyfr na podstawie ich ręcznie narysowanych wersji. Poniżej znajduje się cały kod, zachęca się do testowania parametrów w celu uzyskania lepszej sprawności uczenia."
      ],
      "metadata": {
        "id": "d3ub5ZwFfl6L"
      }
    },
    {
      "cell_type": "code",
      "source": [
        "%tensorflow_version 2.x\n",
        "import tensorflow as tf\n",
        "from tensorflow import keras\n",
        "\n",
        "# biblioteki pomocnicze\n",
        "import numpy as np\n",
        "import matplotlib.pyplot as plt\n",
        "\n",
        "keras.backend.clear_session() #jest to wymagana linia resetująca poprawnie model.\n",
        "\n",
        "(train_img, train_label), (test_img, test_label) = keras.datasets.mnist.load_data() #dokonujemy podziału na dane testowe i dane trenowania\n",
        "\n",
        "digits = ['zero', 'jeden', 'dwa', 'trzy', 'cztery',\n",
        "               'piec', 'szesc', 'siedem', 'osiem', 'dziewiec']\n",
        "\n",
        "train_img = train_img / 255.0\n",
        "test_img = test_img / 255.0\n",
        "\n",
        "model = keras.Sequential([\n",
        "    keras.layers.Flatten(input_shape=(28, 28)),  # warstwa wejściowa (1), jedynie transformuje dane\n",
        "    keras.layers.Dense(128, activation='relu'),  # 1 warstwa ukryta (2)\n",
        "    keras.layers.Dense(10, activation='softmax') # warstwa wyjściowa (3)\n",
        "])\n",
        "\n",
        "model.compile(optimizer='adadelta',\n",
        "              loss='sparse_categorical_crossentropy',\n",
        "              metrics=['accuracy'])\n",
        "\n",
        "model.fit(train_img, train_label, epochs=12)\n",
        "\n",
        "test_loss, test_acc = model.evaluate(test_img,  test_label, verbose=1) \n",
        "print('Test accuracy:', test_acc, 'Test loss: ', test_loss)\n",
        "\n",
        "predict = model.predict(test_img)\n",
        "\n",
        "test_sample = 2022\n",
        "predict[test_sample]\n",
        "max = np.argmax(predict[test_sample])\n",
        "\n",
        "test = test_label[test_sample]\n",
        "print('prawdziwa cyfra {}'.format(digits[test]))\n",
        "print('przewidywana cyfra {}'.format(digits[max]))\n",
        "plt.figure()\n",
        "plt.imshow(test_img[test_sample])\n",
        "plt.colorbar()\n",
        "plt.grid(False)\n",
        "plt.show()\n"
      ],
      "metadata": {
        "id": "h2KGiGjwf-k4"
      },
      "execution_count": null,
      "outputs": []
    },
    {
      "cell_type": "markdown",
      "source": [
        "#Odnośniki"
      ],
      "metadata": {
        "id": "SUSkQ4xGsJ9W"
      }
    },
    {
      "cell_type": "markdown",
      "source": [
        "##Sieci neurononowe\n",
        "\n",
        "* https://www.sztucznainteligencja.org.pl/kurs/sztuczna-inteligencja-dla-poczatkujacych/sztuczne-sieci-neuronowe/\n",
        "* http://www.ai.jonad.eu/materialy/download/sieci_neuronowe/art_kern_1.pdf\n",
        "* http://materialy.prz-rzeszow.pl/pracownik/pliki/34/sztuczna-inteligencja-cw6-model-neuronu.pdf\n",
        "* http://materialy.prz-rzeszow.pl/pracownik/pliki/34/sztuczna-inteligencja-cw9-siec-wielowarstw.pdf\n",
        "* https://depot.ceon.pl/bitstream/handle/123456789/7318/leksykon%20sieci%20neuronowych%20-%20r.tadeusiewicz%2C%20m.szaleniec.pdf?sequence=1&isAllowed=y\n",
        "* https://steemit.com/polish/@callmejoe/uczenie-maszynowe-4-ten-z-innymi-funkcjami-aktywacji\n",
        "\n",
        "##Źródła grafik\n",
        "* https://upload.wikimedia.org/wikipedia/commons/thumb/6/6c/Rectifier_and_softplus_functions.svg/2000px-Rectifier_and_softplus_functions.svg.png\n",
        "\n",
        "* https://upload.wikimedia.org/wikipedia/commons/thumb/8/87/Hyperbolic_Tangent.svg/800px-Hyperbolic_Tangent.svg.png\n",
        "\n",
        "\n",
        "* https://upload.wikimedia.org/wikipedia/commons/thumb/5/53/Sigmoid-function-2.svg/2000px-Sigmoid-function-2.svg.png\n",
        "\n",
        "* https://www.nonsoloindirizzi.xyz/products.aspx?cname=stochastic+gradient+descent+in+machine+learning&cid=23\n",
        "\n",
        "* http://materialy.prz-rzeszow.pl/pracownik/pliki/34/sztuczna-inteligencja-cw6-model-neuronu.pdf\n",
        "* http://materialy.prz-rzeszow.pl/pracownik/pliki/34/sztuczna-inteligencja-cw9-siec-wielowarstw.pdf\n",
        "\n",
        "* Paweł Cichosz, Systemy uczące się, Wydawnictwo Naukowo-Techniczne Warszawa, 2000\n"
      ],
      "metadata": {
        "id": "eVzPW2HLsN3E"
      }
    }
  ]
}